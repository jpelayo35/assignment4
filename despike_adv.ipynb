{
 "cells": [
  {
   "cell_type": "code",
   "execution_count": null,
   "id": "9eaef8d4-e11c-415d-a5be-11110e1abfe9",
   "metadata": {},
   "outputs": [],
   "source": [
    "import matplotlib.pyplot as plt\n",
    "import numpy as np\n",
    "import pandas as pd\n",
    "# Import any other packages you need here"
   ]
  },
  {
   "cell_type": "code",
   "execution_count": null,
   "id": "b24a8f43-e920-46d9-ace0-2276c6bf9a24",
   "metadata": {},
   "outputs": [],
   "source": [
    "class AdvData:\n",
    "    # Use this cell to define all the methods and attributes you need for the AdvData class.\n",
    "    # I would suggest starting with the functionality required for Part 1 in order to get \n",
    "    # a feel for defining and using Classes. Once you  have finished that, you can come back\n",
    "    # to the class definition and implement the Goring & Nikora algorithm. "
   ]
  },
  {
   "cell_type": "markdown",
   "id": "d176bc2e-5df6-4cd4-a1f3-40a9efdf938d",
   "metadata": {},
   "source": [
    "Use as many markdown and code cells as you need to answer the questions in the assignment"
   ]
  }
 ],
 "metadata": {
  "kernelspec": {
   "display_name": "Python 3 (ipykernel)",
   "language": "python",
   "name": "python3"
  },
  "language_info": {
   "codemirror_mode": {
    "name": "ipython",
    "version": 3
   },
   "file_extension": ".py",
   "mimetype": "text/x-python",
   "name": "python",
   "nbconvert_exporter": "python",
   "pygments_lexer": "ipython3",
   "version": "3.9.10"
  }
 },
 "nbformat": 4,
 "nbformat_minor": 5
}
